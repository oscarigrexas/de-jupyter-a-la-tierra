{
 "cells": [
  {
   "cell_type": "markdown",
   "metadata": {
    "ExecuteTime": {
     "end_time": "2019-08-19T08:55:19.360919Z",
     "start_time": "2019-08-19T08:55:19.356677Z"
    }
   },
   "source": [
    "# Analysis of the CatFoodDB\n",
    "\n",
    "I began this as a way to learn how to use ```scrapy```, and it soon became a full data gathering+cleaning+analysis+prediction project.\n",
    "\n",
    "In this notebook I'll read the raw data gathered by the spider, and:\n",
    "- Load it into a Pandas dataframe\n",
    "- Clean and manipulate it until I'm left with a tidy dataset with correct data types and useful information\n",
    "- Explore the shape of the data and the relationships between variables and target features through numerical analysis and visualization\n",
    "- Identify the most important predictors\n",
    "- Train a machine learning model to be able to predict \"paw scores\" on its own"
   ]
  },
  {
   "cell_type": "code",
   "execution_count": 1,
   "metadata": {
    "ExecuteTime": {
     "end_time": "2019-08-19T08:55:18.898179Z",
     "start_time": "2019-08-19T08:55:18.891351Z"
    }
   },
   "outputs": [],
   "source": [
    "import numpy as np\n",
    "import pandas as pd\n",
    "import matplotlib.pyplot as plt\n",
    "import seaborn as sns\n",
    "sns.set_style('whitegrid')\n",
    "%matplotlib inline"
   ]
  },
  {
   "cell_type": "code",
   "execution_count": 2,
   "metadata": {},
   "outputs": [],
   "source": [
    "from sklearn.model_selection import train_test_split\n",
    "from sklearn.preprocessing import StandardScaler\n",
    "from sklearn.metrics import confusion_matrix, classification_report"
   ]
  },
  {
   "cell_type": "markdown",
   "metadata": {},
   "source": [
    "### Loading and cleaning the data"
   ]
  },
  {
   "cell_type": "markdown",
   "metadata": {},
   "source": [
    "I begin by loading the csv file created by the spider and taking a good look at it"
   ]
  },
  {
   "cell_type": "code",
   "execution_count": 3,
   "metadata": {},
   "outputs": [
    {
     "data": {
      "text/html": [
       "<div>\n",
       "<style scoped>\n",
       "    .dataframe tbody tr th:only-of-type {\n",
       "        vertical-align: middle;\n",
       "    }\n",
       "\n",
       "    .dataframe tbody tr th {\n",
       "        vertical-align: top;\n",
       "    }\n",
       "\n",
       "    .dataframe thead th {\n",
       "        text-align: right;\n",
       "    }\n",
       "</style>\n",
       "<table border=\"1\" class=\"dataframe\">\n",
       "  <thead>\n",
       "    <tr style=\"text-align: right;\">\n",
       "      <th></th>\n",
       "      <th>brand</th>\n",
       "      <th>dma_ash</th>\n",
       "      <th>dma_cals</th>\n",
       "      <th>dma_carbs</th>\n",
       "      <th>dma_fat</th>\n",
       "      <th>dma_fiber</th>\n",
       "      <th>dma_prot</th>\n",
       "      <th>ga_ash</th>\n",
       "      <th>ga_carbs</th>\n",
       "      <th>ga_fat</th>\n",
       "      <th>ga_fiber</th>\n",
       "      <th>ga_moist</th>\n",
       "      <th>ga_prot</th>\n",
       "      <th>ingredients</th>\n",
       "      <th>ingredients_paws</th>\n",
       "      <th>name</th>\n",
       "      <th>nutrition_paws</th>\n",
       "      <th>potential_allergens</th>\n",
       "      <th>quality_ingredients</th>\n",
       "      <th>questionable_ingredients</th>\n",
       "    </tr>\n",
       "  </thead>\n",
       "  <tbody>\n",
       "    <tr>\n",
       "      <th>0</th>\n",
       "      <td>1st choice</td>\n",
       "      <td>10%</td>\n",
       "      <td>313/100g</td>\n",
       "      <td>40%</td>\n",
       "      <td>11%</td>\n",
       "      <td>7%</td>\n",
       "      <td>32%</td>\n",
       "      <td>9.0%</td>\n",
       "      <td>36.0%</td>\n",
       "      <td>10.0%</td>\n",
       "      <td>6.0%</td>\n",
       "      <td>10.0%</td>\n",
       "      <td>29.0%</td>\n",
       "      <td>Chicken,chicken meal,rice,pea protein,brown ri...</td>\n",
       "      <td>[3]</td>\n",
       "      <td>Weight Control</td>\n",
       "      <td>[2]</td>\n",
       "      <td>NaN</td>\n",
       "      <td>chicken,chicken meal</td>\n",
       "      <td>rice,brown rice</td>\n",
       "    </tr>\n",
       "    <tr>\n",
       "      <th>1</th>\n",
       "      <td>bravo</td>\n",
       "      <td>0%</td>\n",
       "      <td>87/100g</td>\n",
       "      <td>11%</td>\n",
       "      <td>31%</td>\n",
       "      <td>6%</td>\n",
       "      <td>53%</td>\n",
       "      <td>0.0%</td>\n",
       "      <td>2.0%</td>\n",
       "      <td>5.5%</td>\n",
       "      <td>1.0%</td>\n",
       "      <td>82.0%</td>\n",
       "      <td>9.5%</td>\n",
       "      <td>Turkey,turkey broth,vegetable broth,turkey hea...</td>\n",
       "      <td>[4]</td>\n",
       "      <td>Feline Cafe Turkey Fricassee</td>\n",
       "      <td>[4]</td>\n",
       "      <td>dried eggs,salmon oil,dried green lipped mussels</td>\n",
       "      <td>turkey,turkey heart,turkey liver</td>\n",
       "      <td>NaN</td>\n",
       "    </tr>\n",
       "    <tr>\n",
       "      <th>2</th>\n",
       "      <td>boreal</td>\n",
       "      <td>8%</td>\n",
       "      <td>352/100g</td>\n",
       "      <td>36%</td>\n",
       "      <td>17%</td>\n",
       "      <td>4%</td>\n",
       "      <td>36%</td>\n",
       "      <td>7.5%</td>\n",
       "      <td>32.0%</td>\n",
       "      <td>15.0%</td>\n",
       "      <td>3.5%</td>\n",
       "      <td>10.0%</td>\n",
       "      <td>32.0%</td>\n",
       "      <td>Chicken Meal,Brown Rice,Oat Meal,Pearled Barle...</td>\n",
       "      <td>[2]</td>\n",
       "      <td>Proper Chicken Meal</td>\n",
       "      <td>[2]</td>\n",
       "      <td>herring meal</td>\n",
       "      <td>chicken meal,herring meal</td>\n",
       "      <td>brown rice</td>\n",
       "    </tr>\n",
       "    <tr>\n",
       "      <th>3</th>\n",
       "      <td>blue seal</td>\n",
       "      <td>0%</td>\n",
       "      <td>356/100g</td>\n",
       "      <td>50%</td>\n",
       "      <td>12%</td>\n",
       "      <td>4%</td>\n",
       "      <td>33%</td>\n",
       "      <td>0.0%</td>\n",
       "      <td>45.0%</td>\n",
       "      <td>11.0%</td>\n",
       "      <td>4.0%</td>\n",
       "      <td>10.0%</td>\n",
       "      <td>30.0%</td>\n",
       "      <td>Poultry By-product Meal,Ground Corn,Ground Whe...</td>\n",
       "      <td>[1]</td>\n",
       "      <td>Kat Krunchies</td>\n",
       "      <td>[1]</td>\n",
       "      <td>ground corn,corn gluten meal</td>\n",
       "      <td>NaN</td>\n",
       "      <td>poultry by-product meal,ground corn,ground whe...</td>\n",
       "    </tr>\n",
       "    <tr>\n",
       "      <th>4</th>\n",
       "      <td>best breed</td>\n",
       "      <td>9%</td>\n",
       "      <td>348/100g</td>\n",
       "      <td>22%</td>\n",
       "      <td>19%</td>\n",
       "      <td>8%</td>\n",
       "      <td>42%</td>\n",
       "      <td>8.0%</td>\n",
       "      <td>20.0%</td>\n",
       "      <td>17.0%</td>\n",
       "      <td>7.0%</td>\n",
       "      <td>10.0%</td>\n",
       "      <td>38.0%</td>\n",
       "      <td>Chicken Meal,Egg Product,Chicken Fat (Preserve...</td>\n",
       "      <td>[4]</td>\n",
       "      <td>Grain Free Cat Diet</td>\n",
       "      <td>[3]</td>\n",
       "      <td>egg product,whitefish meal,fish oil</td>\n",
       "      <td>chicken meal,whitefish meal</td>\n",
       "      <td>NaN</td>\n",
       "    </tr>\n",
       "  </tbody>\n",
       "</table>\n",
       "</div>"
      ],
      "text/plain": [
       "        brand dma_ash  dma_cals dma_carbs dma_fat dma_fiber dma_prot ga_ash  \\\n",
       "0  1st choice     10%  313/100g       40%     11%        7%      32%   9.0%   \n",
       "1       bravo      0%   87/100g       11%     31%        6%      53%   0.0%   \n",
       "2      boreal      8%  352/100g       36%     17%        4%      36%   7.5%   \n",
       "3   blue seal      0%  356/100g       50%     12%        4%      33%   0.0%   \n",
       "4  best breed      9%  348/100g       22%     19%        8%      42%   8.0%   \n",
       "\n",
       "  ga_carbs ga_fat ga_fiber ga_moist ga_prot  \\\n",
       "0    36.0%  10.0%     6.0%    10.0%   29.0%   \n",
       "1     2.0%   5.5%     1.0%    82.0%    9.5%   \n",
       "2    32.0%  15.0%     3.5%    10.0%   32.0%   \n",
       "3    45.0%  11.0%     4.0%    10.0%   30.0%   \n",
       "4    20.0%  17.0%     7.0%    10.0%   38.0%   \n",
       "\n",
       "                                         ingredients ingredients_paws  \\\n",
       "0  Chicken,chicken meal,rice,pea protein,brown ri...              [3]   \n",
       "1  Turkey,turkey broth,vegetable broth,turkey hea...              [4]   \n",
       "2  Chicken Meal,Brown Rice,Oat Meal,Pearled Barle...              [2]   \n",
       "3  Poultry By-product Meal,Ground Corn,Ground Whe...              [1]   \n",
       "4  Chicken Meal,Egg Product,Chicken Fat (Preserve...              [4]   \n",
       "\n",
       "                           name nutrition_paws  \\\n",
       "0                Weight Control            [2]   \n",
       "1  Feline Cafe Turkey Fricassee            [4]   \n",
       "2           Proper Chicken Meal            [2]   \n",
       "3                 Kat Krunchies            [1]   \n",
       "4           Grain Free Cat Diet            [3]   \n",
       "\n",
       "                                potential_allergens  \\\n",
       "0                                               NaN   \n",
       "1  dried eggs,salmon oil,dried green lipped mussels   \n",
       "2                                      herring meal   \n",
       "3                      ground corn,corn gluten meal   \n",
       "4               egg product,whitefish meal,fish oil   \n",
       "\n",
       "                quality_ingredients  \\\n",
       "0              chicken,chicken meal   \n",
       "1  turkey,turkey heart,turkey liver   \n",
       "2         chicken meal,herring meal   \n",
       "3                               NaN   \n",
       "4       chicken meal,whitefish meal   \n",
       "\n",
       "                            questionable_ingredients  \n",
       "0                                    rice,brown rice  \n",
       "1                                                NaN  \n",
       "2                                         brown rice  \n",
       "3  poultry by-product meal,ground corn,ground whe...  \n",
       "4                                                NaN  "
      ]
     },
     "execution_count": 3,
     "metadata": {},
     "output_type": "execute_result"
    }
   ],
   "source": [
    "df = pd.read_csv('../scraping/catfood/spiders/food_2020-03-11T08-47-45.csv')\n",
    "df.head()"
   ]
  },
  {
   "cell_type": "code",
   "execution_count": 4,
   "metadata": {
    "ExecuteTime": {
     "end_time": "2019-08-19T08:55:20.651553Z",
     "start_time": "2019-08-19T08:55:20.634592Z"
    },
    "scrolled": true
   },
   "outputs": [
    {
     "name": "stdout",
     "output_type": "stream",
     "text": [
      "<class 'pandas.core.frame.DataFrame'>\n",
      "RangeIndex: 3165 entries, 0 to 3164\n",
      "Data columns (total 20 columns):\n",
      " #   Column                    Non-Null Count  Dtype \n",
      "---  ------                    --------------  ----- \n",
      " 0   brand                     3165 non-null   object\n",
      " 1   dma_ash                   3165 non-null   object\n",
      " 2   dma_cals                  3165 non-null   object\n",
      " 3   dma_carbs                 3165 non-null   object\n",
      " 4   dma_fat                   3165 non-null   object\n",
      " 5   dma_fiber                 3165 non-null   object\n",
      " 6   dma_prot                  3165 non-null   object\n",
      " 7   ga_ash                    3165 non-null   object\n",
      " 8   ga_carbs                  3165 non-null   object\n",
      " 9   ga_fat                    3165 non-null   object\n",
      " 10  ga_fiber                  3165 non-null   object\n",
      " 11  ga_moist                  3165 non-null   object\n",
      " 12  ga_prot                   3165 non-null   object\n",
      " 13  ingredients               3165 non-null   object\n",
      " 14  ingredients_paws          3165 non-null   object\n",
      " 15  name                      3165 non-null   object\n",
      " 16  nutrition_paws            3165 non-null   object\n",
      " 17  potential_allergens       2906 non-null   object\n",
      " 18  quality_ingredients       3058 non-null   object\n",
      " 19  questionable_ingredients  2424 non-null   object\n",
      "dtypes: object(20)\n",
      "memory usage: 494.7+ KB\n"
     ]
    }
   ],
   "source": [
    "df.info()"
   ]
  },
  {
   "cell_type": "markdown",
   "metadata": {},
   "source": [
    "As everything has been loaded as plain text, I need to manipulate and convert each column so I end up with numerical values that a machine learning model can understand"
   ]
  },
  {
   "cell_type": "code",
   "execution_count": 5,
   "metadata": {
    "ExecuteTime": {
     "end_time": "2019-08-19T08:55:21.259861Z",
     "start_time": "2019-08-19T08:55:21.251136Z"
    }
   },
   "outputs": [],
   "source": [
    "# Convert all percent values to floats\n",
    "\n",
    "percent_cols = ['dma_ash',\n",
    "                'dma_carbs',\n",
    "                'dma_fat',\n",
    "                'dma_fiber',\n",
    "                'dma_prot',\n",
    "                'ga_ash',\n",
    "                'ga_carbs',\n",
    "                'ga_fat',\n",
    "                'ga_fiber',\n",
    "                'ga_moist',\n",
    "                'ga_prot']\n",
    "\n",
    "for col in percent_cols:\n",
    "    df[col] = df[col].str.rstrip('%').astype('float')\n",
    "    \n",
    "\n",
    "# Convert the calorie column to floats\n",
    "\n",
    "df['dma_cals'] = df['dma_cals'].map(lambda x:x.split('/')[0].replace(',', '')).astype('float')\n",
    "    \n",
    "    \n",
    "# Convert \"paw score\" columns to floats\n",
    "\n",
    "paw_cols = ['ingredients_paws', 'nutrition_paws']\n",
    "\n",
    "for col in paw_cols:\n",
    "    df[col] = df[col].str[1].astype('int')\n",
    "    \n",
    "# Convert ingredient columns into lists of strings\n",
    "\n",
    "ingredient_cols = ['ingredients', 'quality_ingredients', 'questionable_ingredients', 'potential_allergens']\n",
    "\n",
    "for col in ingredient_cols:\n",
    "    df[col].fillna('')\n",
    "    df[col] = df[col].str.split(',')"
   ]
  },
  {
   "cell_type": "code",
   "execution_count": 6,
   "metadata": {
    "ExecuteTime": {
     "end_time": "2019-08-19T08:55:22.198471Z",
     "start_time": "2019-08-19T08:55:22.180345Z"
    }
   },
   "outputs": [
    {
     "name": "stdout",
     "output_type": "stream",
     "text": [
      "<class 'pandas.core.frame.DataFrame'>\n",
      "RangeIndex: 3165 entries, 0 to 3164\n",
      "Data columns (total 20 columns):\n",
      " #   Column                    Non-Null Count  Dtype  \n",
      "---  ------                    --------------  -----  \n",
      " 0   brand                     3165 non-null   object \n",
      " 1   dma_ash                   3165 non-null   float64\n",
      " 2   dma_cals                  3165 non-null   float64\n",
      " 3   dma_carbs                 3165 non-null   float64\n",
      " 4   dma_fat                   3165 non-null   float64\n",
      " 5   dma_fiber                 3165 non-null   float64\n",
      " 6   dma_prot                  3165 non-null   float64\n",
      " 7   ga_ash                    3165 non-null   float64\n",
      " 8   ga_carbs                  3165 non-null   float64\n",
      " 9   ga_fat                    3165 non-null   float64\n",
      " 10  ga_fiber                  3165 non-null   float64\n",
      " 11  ga_moist                  3165 non-null   float64\n",
      " 12  ga_prot                   3165 non-null   float64\n",
      " 13  ingredients               3165 non-null   object \n",
      " 14  ingredients_paws          3165 non-null   int64  \n",
      " 15  name                      3165 non-null   object \n",
      " 16  nutrition_paws            3165 non-null   int64  \n",
      " 17  potential_allergens       2906 non-null   object \n",
      " 18  quality_ingredients       3058 non-null   object \n",
      " 19  questionable_ingredients  2424 non-null   object \n",
      "dtypes: float64(12), int64(2), object(6)\n",
      "memory usage: 494.7+ KB\n"
     ]
    }
   ],
   "source": [
    "df.info()"
   ]
  },
  {
   "cell_type": "markdown",
   "metadata": {},
   "source": [
    "All of the numerical columns are now properly formatted and are of type float, great!\n",
    "I can start exploring and transforming the data."
   ]
  },
  {
   "cell_type": "markdown",
   "metadata": {},
   "source": [
    "### General exploration"
   ]
  },
  {
   "cell_type": "markdown",
   "metadata": {},
   "source": [
    "Let's take a look at all of the columns that I decided to scrape and the reasons why they might be useful."
   ]
  },
  {
   "cell_type": "code",
   "execution_count": 7,
   "metadata": {},
   "outputs": [
    {
     "data": {
      "text/plain": [
       "brand                                                              1st choice\n",
       "dma_ash                                                                  10.0\n",
       "dma_cals                                                                313.0\n",
       "dma_carbs                                                                40.0\n",
       "dma_fat                                                                  11.0\n",
       "dma_fiber                                                                 7.0\n",
       "dma_prot                                                                 32.0\n",
       "ga_ash                                                                    9.0\n",
       "ga_carbs                                                                 36.0\n",
       "ga_fat                                                                   10.0\n",
       "ga_fiber                                                                  6.0\n",
       "ga_moist                                                                 10.0\n",
       "ga_prot                                                                  29.0\n",
       "ingredients                 [Chicken, chicken meal, rice, pea protein, bro...\n",
       "ingredients_paws                                                            3\n",
       "name                                                           Weight Control\n",
       "nutrition_paws                                                              2\n",
       "potential_allergens                                                       NaN\n",
       "quality_ingredients                                   [chicken, chicken meal]\n",
       "questionable_ingredients                                   [rice, brown rice]\n",
       "Name: 0, dtype: object"
      ]
     },
     "execution_count": 7,
     "metadata": {},
     "output_type": "execute_result"
    }
   ],
   "source": [
    "df.loc[0]"
   ]
  },
  {
   "cell_type": "markdown",
   "metadata": {},
   "source": [
    "- brand: name of the manufacturer\n",
    "- name: name of the specific product\n",
    "- ga_\\*: Guaranteed Analysis nutritional values, the amount of calories, carbs, fats... declared by the manufacturer expressed as percents\n",
    "- dma_\\*: Dry Matter Analysis nutritional values, the same information as Guaranteed Analysis but normalized for moisture content (this is important because cat food comes in dry and wet formats, and we want to be able to rate them indpendently of that)\n",
    "- ingredients: list of ingredients, ordered by amount\n",
    "- quality_ingredients: ingredients that are considered beneficial, good signs of a quality product\n",
    "- questionable_ingredients: ingredients that are considered inferior, fillers, or even negative\n",
    "- potential_allergens: ingredients that could be dangerous for allergic cats\n",
    "- nutrition_paws: arbitrary rating based on the nutritional values, one of my target features!\n",
    "- ingredients_paws: arbitrary rating based on the quality of the ingredients, the other target feature!"
   ]
  },
  {
   "cell_type": "markdown",
   "metadata": {},
   "source": [
    "At this point, I decide to drop the Guaranteed Analysis columns except for ```ga_moist``` (which I need if I want to differenciate between dry and wet food), since the more appropriate Dry Matter Analysis columns already include all of the relevant nutritional information."
   ]
  },
  {
   "cell_type": "code",
   "execution_count": 8,
   "metadata": {},
   "outputs": [
    {
     "name": "stdout",
     "output_type": "stream",
     "text": [
      "<class 'pandas.core.frame.DataFrame'>\n",
      "RangeIndex: 3165 entries, 0 to 3164\n",
      "Data columns (total 15 columns):\n",
      " #   Column                    Non-Null Count  Dtype  \n",
      "---  ------                    --------------  -----  \n",
      " 0   brand                     3165 non-null   object \n",
      " 1   dma_ash                   3165 non-null   float64\n",
      " 2   dma_cals                  3165 non-null   float64\n",
      " 3   dma_carbs                 3165 non-null   float64\n",
      " 4   dma_fat                   3165 non-null   float64\n",
      " 5   dma_fiber                 3165 non-null   float64\n",
      " 6   dma_prot                  3165 non-null   float64\n",
      " 7   ga_moist                  3165 non-null   float64\n",
      " 8   ingredients               3165 non-null   object \n",
      " 9   ingredients_paws          3165 non-null   int64  \n",
      " 10  name                      3165 non-null   object \n",
      " 11  nutrition_paws            3165 non-null   int64  \n",
      " 12  potential_allergens       2906 non-null   object \n",
      " 13  quality_ingredients       3058 non-null   object \n",
      " 14  questionable_ingredients  2424 non-null   object \n",
      "dtypes: float64(7), int64(2), object(6)\n",
      "memory usage: 371.0+ KB\n"
     ]
    }
   ],
   "source": [
    "ga_cols_to_drop = ['ga_ash', 'ga_carbs', 'ga_fat', 'ga_fiber', 'ga_prot']\n",
    "df.drop(ga_cols_to_drop, axis=1, inplace=True)\n",
    "df.info()"
   ]
  },
  {
   "cell_type": "markdown",
   "metadata": {},
   "source": [
    "Selecting only wet or only dry foods would be a matter of selecting entries where the ```ga_moist``` column has a value greater than, let's say, 50% (dry food's moisture content goes all the way up to 18.0%, and wet food's starts at 63.0%, 50.0% is just a convenient spot)"
   ]
  },
  {
   "cell_type": "code",
   "execution_count": 9,
   "metadata": {},
   "outputs": [
    {
     "name": "stdout",
     "output_type": "stream",
     "text": [
      "Wet foods: 2166         Min and max moist. contents: 63.0-87.5%\n",
      "Dry foods:  999         Min and max moist. contents:  0.1-18.0%\n"
     ]
    }
   ],
   "source": [
    "wf_moist = df[df['ga_moist'] > 50]['ga_moist']\n",
    "df_moist = df[df['ga_moist'] < 50]['ga_moist']\n",
    "print(\"Wet foods: {:4d}         Min and max moist. contents: {:4.1f}-{:4.1f}%\".format(wf_moist.count(), wf_moist.min(), wf_moist.max()))\n",
    "print(\"Dry foods: {:4d}         Min and max moist. contents: {:4.1f}-{:4.1f}%\".format(df_moist.count(), df_moist.min(), df_moist.max()))"
   ]
  },
  {
   "cell_type": "markdown",
   "metadata": {},
   "source": [
    "I start by taking a look at the distribution of paw score using histograms."
   ]
  },
  {
   "cell_type": "code",
   "execution_count": 10,
   "metadata": {},
   "outputs": [
    {
     "data": {
      "text/plain": [
       "<AxesSubplot:xlabel='ingredients_paws', ylabel='count'>"
      ]
     },
     "execution_count": 10,
     "metadata": {},
     "output_type": "execute_result"
    },
    {
     "data": {
      "image/png": "[encoded data removed]",
      "text/plain": [
       "<Figure size 432x288 with 1 Axes>"
      ]
     },
     "metadata": {
      "needs_background": "light"
     },
     "output_type": "display_data"
    }
   ],
   "source": [
    "sns.countplot(x=df['nutrition_paws'], color='blue', alpha=0.5, label='Nutrition paws')\n",
    "sns.countplot(x=df['ingredients_paws'], color='orange', alpha=0.5, label='Ingredients paws')"
   ]
  },
  {
   "cell_type": "markdown",
   "metadata": {},
   "source": [
    "I can see that, while both score systems result in roughly gaussian distributions, ingredients paws are generally lower. "
   ]
  },
  {
   "cell_type": "markdown",
   "metadata": {},
   "source": [
    "Now, I start looking into the relationships between the variable and my target features. One way that I really like and I believe to be appropriate for this problem is studying the correlations using a nice heatmap."
   ]
  },
  {
   "cell_type": "code",
   "execution_count": 11,
   "metadata": {
    "ExecuteTime": {
     "end_time": "2019-08-19T08:55:23.082282Z",
     "start_time": "2019-08-19T08:55:22.640544Z"
    }
   },
   "outputs": [
    {
     "data": {
      "text/plain": [
       "<AxesSubplot:>"
      ]
     },
     "execution_count": 11,
     "metadata": {},
     "output_type": "execute_result"
    },
    {
     "data": {
      "image/png": "[encoded data removed]",
      "text/plain": [
       "<Figure size 432x288 with 2 Axes>"
      ]
     },
     "metadata": {
      "needs_background": "light"
     },
     "output_type": "display_data"
    }
   ],
   "source": [
    "sns.heatmap(df.corr(), cmap='seismic', square=True, vmin=-1, vmax=1)"
   ]
  },
  {
   "cell_type": "markdown",
   "metadata": {},
   "source": [
    "Focusing on the ```nutrition_paws``` and ```ingredients_paws``` correlations:\n",
    "- ```nutrition_paws```\n",
    "    - ```dma_ash```, which refers to the amount of inorganic minerals that remains after a food has been burnt, appears to be slightly positive to the nutrition score\n",
    "    - ```dma_carbs``` has a highly negative correlation with the nutrition score. This makes sense as carbs are not specially good for cats (they are natural carnivores), and carbs come usually in the way of filler such as rice, grains, starches...\n",
    "    - ```dma_cals``` has also a negative correlation, it's possible that highly caloric foods are not good either\n",
    "    - ```dma_prot``` appears to be the most important factor when giving nutrition paws\n",
    "    - ```ga_moist```, which has a significatively high positive correlation, suggests that wet foods tend to receive better nutrition scores\n",
    "- ```ingredients_paws```\n",
    "    - ```dma_fat``` is the only predictor that has sort of a good correlation with the ingredients score\n",
    "    \n",
    "Also, ```nutrition_paws``` and ```ingredients_paws``` are surprisingly uncorrelated. I need to find better predictors to estimate the ingredients paws, probaly using the lists of ingredients."
   ]
  },
  {
   "cell_type": "markdown",
   "metadata": {},
   "source": [
    "Let's explore that relationship between moisture and nutrition score a bit more.\n",
    "I start by adding a ```type``` column to store if a food is wet or dry to make my life a bit simpler."
   ]
  },
  {
   "cell_type": "code",
   "execution_count": 12,
   "metadata": {},
   "outputs": [],
   "source": [
    "def wet_or_dry(moisture):\n",
    "    if moisture > 50:\n",
    "        return 'wet'\n",
    "    else:\n",
    "        return 'dry'\n",
    "    \n",
    "df['type'] = df['ga_moist'].apply(wet_or_dry)"
   ]
  },
  {
   "cell_type": "code",
   "execution_count": 13,
   "metadata": {},
   "outputs": [
    {
     "data": {
      "text/html": [
       "<div>\n",
       "<style scoped>\n",
       "    .dataframe tbody tr th:only-of-type {\n",
       "        vertical-align: middle;\n",
       "    }\n",
       "\n",
       "    .dataframe tbody tr th {\n",
       "        vertical-align: top;\n",
       "    }\n",
       "\n",
       "    .dataframe thead th {\n",
       "        text-align: right;\n",
       "    }\n",
       "</style>\n",
       "<table border=\"1\" class=\"dataframe\">\n",
       "  <thead>\n",
       "    <tr style=\"text-align: right;\">\n",
       "      <th></th>\n",
       "      <th>dma_ash</th>\n",
       "      <th>dma_cals</th>\n",
       "      <th>dma_carbs</th>\n",
       "      <th>dma_fat</th>\n",
       "      <th>dma_fiber</th>\n",
       "      <th>dma_prot</th>\n",
       "      <th>ga_moist</th>\n",
       "      <th>ingredients_paws</th>\n",
       "      <th>nutrition_paws</th>\n",
       "    </tr>\n",
       "    <tr>\n",
       "      <th>type</th>\n",
       "      <th></th>\n",
       "      <th></th>\n",
       "      <th></th>\n",
       "      <th></th>\n",
       "      <th></th>\n",
       "      <th></th>\n",
       "      <th></th>\n",
       "      <th></th>\n",
       "      <th></th>\n",
       "    </tr>\n",
       "  </thead>\n",
       "  <tbody>\n",
       "    <tr>\n",
       "      <th>wet</th>\n",
       "      <td>7.730840</td>\n",
       "      <td>82.379040</td>\n",
       "      <td>15.600185</td>\n",
       "      <td>20.444137</td>\n",
       "      <td>6.274238</td>\n",
       "      <td>50.256694</td>\n",
       "      <td>79.915143</td>\n",
       "      <td>2.694829</td>\n",
       "      <td>3.555402</td>\n",
       "    </tr>\n",
       "    <tr>\n",
       "      <th>dry</th>\n",
       "      <td>3.244244</td>\n",
       "      <td>368.016016</td>\n",
       "      <td>35.509510</td>\n",
       "      <td>17.434434</td>\n",
       "      <td>5.046046</td>\n",
       "      <td>38.746747</td>\n",
       "      <td>9.772472</td>\n",
       "      <td>3.048048</td>\n",
       "      <td>2.137137</td>\n",
       "    </tr>\n",
       "  </tbody>\n",
       "</table>\n",
       "</div>"
      ],
      "text/plain": [
       "       dma_ash    dma_cals  dma_carbs    dma_fat  dma_fiber   dma_prot  \\\n",
       "type                                                                     \n",
       "wet   7.730840   82.379040  15.600185  20.444137   6.274238  50.256694   \n",
       "dry   3.244244  368.016016  35.509510  17.434434   5.046046  38.746747   \n",
       "\n",
       "       ga_moist  ingredients_paws  nutrition_paws  \n",
       "type                                               \n",
       "wet   79.915143          2.694829        3.555402  \n",
       "dry    9.772472          3.048048        2.137137  "
      ]
     },
     "execution_count": 13,
     "metadata": {},
     "output_type": "execute_result"
    }
   ],
   "source": [
    "g_moist = df.groupby('type').mean().sort_values('nutrition_paws', ascending=False)\n",
    "g_moist"
   ]
  },
  {
   "cell_type": "code",
   "execution_count": 14,
   "metadata": {},
   "outputs": [
    {
     "data": {
      "text/plain": [
       "<AxesSubplot:xlabel='nutrition_paws', ylabel='count'>"
      ]
     },
     "execution_count": 14,
     "metadata": {},
     "output_type": "execute_result"
    },
    {
     "data": {
      "image/png": "[encoded data removed]",
      "text/plain": [
       "<Figure size 432x288 with 1 Axes>"
      ]
     },
     "metadata": {
      "needs_background": "light"
     },
     "output_type": "display_data"
    }
   ],
   "source": [
    "sns.countplot(x=df['nutrition_paws'], hue=df['type'], palette='coolwarm_r')"
   ]
  },
  {
   "cell_type": "markdown",
   "metadata": {},
   "source": [
    "It appears that not only the mean value of the nutrition score is higher for wet foods, but also there are many more wet foods with high scores than dry foods, and that the latter tend to have generally low scores."
   ]
  },
  {
   "cell_type": "code",
   "execution_count": 15,
   "metadata": {},
   "outputs": [
    {
     "data": {
      "text/plain": [
       "<AxesSubplot:xlabel='ingredients_paws', ylabel='count'>"
      ]
     },
     "execution_count": 15,
     "metadata": {},
     "output_type": "execute_result"
    },
    {
     "data": {
      "image/png": "[encoded data removed]",
      "text/plain": [
       "<Figure size 432x288 with 1 Axes>"
      ]
     },
     "metadata": {
      "needs_background": "light"
     },
     "output_type": "display_data"
    }
   ],
   "source": [
    "sns.countplot(x=df['ingredients_paws'], hue=df['type'], palette='coolwarm_r')"
   ]
  },
  {
   "cell_type": "markdown",
   "metadata": {},
   "source": [
    "This moisture content, however, doesn't appear to have any relevant impact in the ingredients score, and both wet and dry distributions look fairly similar."
   ]
  },
  {
   "cell_type": "markdown",
   "metadata": {},
   "source": [
    "### Nutrition paws\n",
    "Let's dive a bit deeper into what decides the nutritional score of a food, and try to build a model to predict it.\n",
    "\n",
    "As I studied earlier, the variables that correlate the most with ```nutrition_paws``` are the following:"
   ]
  },
  {
   "cell_type": "code",
   "execution_count": 16,
   "metadata": {
    "ExecuteTime": {
     "end_time": "2019-08-19T08:55:23.116455Z",
     "start_time": "2019-08-19T08:55:23.085949Z"
    }
   },
   "outputs": [
    {
     "data": {
      "text/html": [
       "<div>\n",
       "<style scoped>\n",
       "    .dataframe tbody tr th:only-of-type {\n",
       "        vertical-align: middle;\n",
       "    }\n",
       "\n",
       "    .dataframe tbody tr th {\n",
       "        vertical-align: top;\n",
       "    }\n",
       "\n",
       "    .dataframe thead th {\n",
       "        text-align: right;\n",
       "    }\n",
       "</style>\n",
       "<table border=\"1\" class=\"dataframe\">\n",
       "  <thead>\n",
       "    <tr style=\"text-align: right;\">\n",
       "      <th></th>\n",
       "      <th>dma_ash</th>\n",
       "      <th>dma_cals</th>\n",
       "      <th>dma_carbs</th>\n",
       "      <th>dma_prot</th>\n",
       "      <th>ga_moist</th>\n",
       "      <th>nutrition_paws</th>\n",
       "    </tr>\n",
       "  </thead>\n",
       "  <tbody>\n",
       "    <tr>\n",
       "      <th>0</th>\n",
       "      <td>10.0</td>\n",
       "      <td>313.0</td>\n",
       "      <td>40.0</td>\n",
       "      <td>32.0</td>\n",
       "      <td>10.0</td>\n",
       "      <td>2</td>\n",
       "    </tr>\n",
       "    <tr>\n",
       "      <th>1</th>\n",
       "      <td>0.0</td>\n",
       "      <td>87.0</td>\n",
       "      <td>11.0</td>\n",
       "      <td>53.0</td>\n",
       "      <td>82.0</td>\n",
       "      <td>4</td>\n",
       "    </tr>\n",
       "    <tr>\n",
       "      <th>2</th>\n",
       "      <td>8.0</td>\n",
       "      <td>352.0</td>\n",
       "      <td>36.0</td>\n",
       "      <td>36.0</td>\n",
       "      <td>10.0</td>\n",
       "      <td>2</td>\n",
       "    </tr>\n",
       "    <tr>\n",
       "      <th>3</th>\n",
       "      <td>0.0</td>\n",
       "      <td>356.0</td>\n",
       "      <td>50.0</td>\n",
       "      <td>33.0</td>\n",
       "      <td>10.0</td>\n",
       "      <td>1</td>\n",
       "    </tr>\n",
       "    <tr>\n",
       "      <th>4</th>\n",
       "      <td>9.0</td>\n",
       "      <td>348.0</td>\n",
       "      <td>22.0</td>\n",
       "      <td>42.0</td>\n",
       "      <td>10.0</td>\n",
       "      <td>3</td>\n",
       "    </tr>\n",
       "  </tbody>\n",
       "</table>\n",
       "</div>"
      ],
      "text/plain": [
       "   dma_ash  dma_cals  dma_carbs  dma_prot  ga_moist  nutrition_paws\n",
       "0     10.0     313.0       40.0      32.0      10.0               2\n",
       "1      0.0      87.0       11.0      53.0      82.0               4\n",
       "2      8.0     352.0       36.0      36.0      10.0               2\n",
       "3      0.0     356.0       50.0      33.0      10.0               1\n",
       "4      9.0     348.0       22.0      42.0      10.0               3"
      ]
     },
     "execution_count": 16,
     "metadata": {},
     "output_type": "execute_result"
    }
   ],
   "source": [
    "n_paws_preds = ['dma_ash', 'dma_cals', 'dma_carbs', 'dma_prot', 'ga_moist']\n",
    "n_paws_df = df[n_paws_preds]\n",
    "n_paws_df = pd.concat([n_paws_df, df['nutrition_paws']], axis=1)\n",
    "n_paws_df.head()"
   ]
  },
  {
   "cell_type": "markdown",
   "metadata": {},
   "source": [
    "A second correlation heatmap clearly displays this."
   ]
  },
  {
   "cell_type": "code",
   "execution_count": 17,
   "metadata": {
    "ExecuteTime": {
     "end_time": "2019-08-19T08:55:23.741078Z",
     "start_time": "2019-08-19T08:55:23.120523Z"
    }
   },
   "outputs": [
    {
     "data": {
      "text/plain": [
       "<AxesSubplot:>"
      ]
     },
     "execution_count": 17,
     "metadata": {},
     "output_type": "execute_result"
    },
    {
     "data": {
      "image/png": "[encoded data removed]",
      "text/plain": [
       "<Figure size 432x288 with 2 Axes>"
      ]
     },
     "metadata": {
      "needs_background": "light"
     },
     "output_type": "display_data"
    }
   ],
   "source": [
    "sns.heatmap(n_paws_df.corr(), cmap='seismic', square=True, vmin=-1, vmax=1)"
   ]
  },
  {
   "cell_type": "markdown",
   "metadata": {},
   "source": [
    "Now, I separate the predictors from the target feature, I split them into training and testing sets, and I standarize them using sklearn's StandardScaler."
   ]
  },
  {
   "cell_type": "code",
   "execution_count": 18,
   "metadata": {
    "ExecuteTime": {
     "end_time": "2019-08-19T08:55:23.892377Z",
     "start_time": "2019-08-19T08:55:23.875694Z"
    }
   },
   "outputs": [],
   "source": [
    "X_n_paws = n_paws_df.drop('nutrition_paws', axis=1)\n",
    "y_n_paws = n_paws_df['nutrition_paws']\n",
    "X_train, X_test, y_train, y_test = train_test_split(X_n_paws, y_n_paws, test_size=0.33, random_state=42, stratify=y_n_paws)"
   ]
  },
  {
   "cell_type": "code",
   "execution_count": 19,
   "metadata": {},
   "outputs": [],
   "source": [
    "scaler = StandardScaler()\n",
    "scaler.fit(X_train)\n",
    "X_train = scaler.transform(X_train)\n",
    "X_test = scaler.transform(X_test)"
   ]
  },
  {
   "cell_type": "markdown",
   "metadata": {},
   "source": [
    "I try to predict the nutrition paws using a simple logistic regression model."
   ]
  },
  {
   "cell_type": "code",
   "execution_count": 20,
   "metadata": {
    "ExecuteTime": {
     "end_time": "2019-08-19T08:55:24.759829Z",
     "start_time": "2019-08-19T08:55:24.755964Z"
    }
   },
   "outputs": [],
   "source": [
    "from sklearn.linear_model import LogisticRegression"
   ]
  },
  {
   "cell_type": "code",
   "execution_count": 21,
   "metadata": {
    "ExecuteTime": {
     "end_time": "2019-08-19T08:55:25.016330Z",
     "start_time": "2019-08-19T08:55:25.012502Z"
    }
   },
   "outputs": [],
   "source": [
    "lr = LogisticRegression(multi_class='multinomial', solver='newton-cg')"
   ]
  },
  {
   "cell_type": "code",
   "execution_count": 22,
   "metadata": {
    "ExecuteTime": {
     "end_time": "2019-08-19T08:55:26.497351Z",
     "start_time": "2019-08-19T08:55:25.731166Z"
    }
   },
   "outputs": [
    {
     "data": {
      "text/plain": [
       "LogisticRegression(multi_class='multinomial', solver='newton-cg')"
      ]
     },
     "execution_count": 22,
     "metadata": {},
     "output_type": "execute_result"
    }
   ],
   "source": [
    "lr.fit(X_train, y_train)"
   ]
  },
  {
   "cell_type": "code",
   "execution_count": 23,
   "metadata": {
    "ExecuteTime": {
     "end_time": "2019-08-19T08:55:26.507927Z",
     "start_time": "2019-08-19T08:55:26.501384Z"
    }
   },
   "outputs": [],
   "source": [
    "y_pred = lr.predict(X_test)"
   ]
  },
  {
   "cell_type": "code",
   "execution_count": 24,
   "metadata": {
    "ExecuteTime": {
     "end_time": "2019-08-19T08:55:26.998029Z",
     "start_time": "2019-08-19T08:55:26.521449Z"
    }
   },
   "outputs": [
    {
     "name": "stdout",
     "output_type": "stream",
     "text": [
      "              precision    recall  f1-score   support\n",
      "\n",
      "           1       0.84      0.70      0.76        87\n",
      "           2       0.78      0.79      0.78       199\n",
      "           3       0.81      0.86      0.83       373\n",
      "           4       0.82      0.83      0.83       289\n",
      "           5       0.94      0.80      0.87        97\n",
      "\n",
      "    accuracy                           0.82      1045\n",
      "   macro avg       0.84      0.80      0.81      1045\n",
      "weighted avg       0.82      0.82      0.82      1045\n",
      "\n",
      "[[ 61  26   0   0   0]\n",
      " [ 12 157  30   0   0]\n",
      " [  0  19 319  35   0]\n",
      " [  0   0  43 241   5]\n",
      " [  0   0   0  19  78]]\n"
     ]
    },
    {
     "data": {
      "image/png": "[encoded data removed]",
      "text/plain": [
       "<Figure size 432x288 with 2 Axes>"
      ]
     },
     "metadata": {
      "needs_background": "light"
     },
     "output_type": "display_data"
    }
   ],
   "source": [
    "sns.heatmap(data=confusion_matrix(y_test, y_pred),\n",
    "           square=True,\n",
    "           annot=True,\n",
    "           fmt='d')\n",
    "print(classification_report(y_test, y_pred))\n",
    "print(confusion_matrix(y_test, y_pred))"
   ]
  },
  {
   "cell_type": "markdown",
   "metadata": {},
   "source": [
    "That is... actually pretty nice! Both the precision and recall values are above 80 percent, which is not bad given the subjective nature of the ratings. It is also worth noting that when the model does fail, it's not too bad: if a score is off, it's only off by one unit, not any more."
   ]
  },
  {
   "cell_type": "markdown",
   "metadata": {},
   "source": [
    "And now, to estimate the score of a previously unknown brand of cat food...\n",
    "\n",
    "![whiskas](img/whiskas.png)"
   ]
  },
  {
   "cell_type": "code",
   "execution_count": 26,
   "metadata": {},
   "outputs": [
    {
     "data": {
      "text/plain": [
       "['dma_ash', 'dma_cals', 'dma_carbs', 'dma_prot', 'ga_moist']"
      ]
     },
     "execution_count": 26,
     "metadata": {},
     "output_type": "execute_result"
    }
   ],
   "source": [
    "n_paws_preds"
   ]
  },
  {
   "cell_type": "code",
   "execution_count": 29,
   "metadata": {},
   "outputs": [
    {
     "data": {
      "text/plain": [
       "array([4])"
      ]
     },
     "execution_count": 29,
     "metadata": {},
     "output_type": "execute_result"
    }
   ],
   "source": [
    "datos_whiskas = np.array([1.7, 76, 21, 50, 84]).reshape(1, -1)\n",
    "lr.predict(datos_whiskas)"
   ]
  }
 ],
 "metadata": {
  "kernelspec": {
   "display_name": "Python 3",
   "language": "python",
   "name": "python3"
  },
  "language_info": {
   "codemirror_mode": {
    "name": "ipython",
    "version": 3
   },
   "file_extension": ".py",
   "mimetype": "text/x-python",
   "name": "python",
   "nbconvert_exporter": "python",
   "pygments_lexer": "ipython3",
   "version": "3.8.8"
  }
 },
 "nbformat": 4,
 "nbformat_minor": 4
}
